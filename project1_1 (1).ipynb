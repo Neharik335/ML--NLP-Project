{
 "cells": [
  {
   "cell_type": "code",
   "execution_count": 1,
   "metadata": {
    "colab": {
     "base_uri": "https://localhost:8080/"
    },
    "executionInfo": {
     "elapsed": 62115,
     "status": "ok",
     "timestamp": 1684339143989,
     "user": {
      "displayName": "k.vijay vijay",
      "userId": "06503366421292168170"
     },
     "user_tz": -330
    },
    "id": "U9Q0LrY0Nuv1",
    "outputId": "5f4be0c4-a7b2-4836-85d9-1dcc9abf1050"
   },
   "outputs": [
    {
     "name": "stdout",
     "output_type": "stream",
     "text": [
      "Drive already mounted at /content/drive; to attempt to forcibly remount, call drive.mount(\"/content/drive\", force_remount=True).\n"
     ]
    }
   ],
   "source": [
    "\n",
    "# Mount the  drive\n",
    "from google.colab import drive\n",
    "drive.mount(\"/content/drive\")"
   ]
  },
  {
   "cell_type": "markdown",
   "metadata": {
    "id": "K-uTWZncEkzC"
   },
   "source": [
    "\n",
    "# Import the Required Packages"
   ]
  },
  {
   "cell_type": "code",
   "execution_count": 1,
   "metadata": {
    "colab": {
     "base_uri": "https://localhost:8080/"
    },
    "executionInfo": {
     "elapsed": 2213,
     "status": "ok",
     "timestamp": 1684341375696,
     "user": {
      "displayName": "k.vijay vijay",
      "userId": "06503366421292168170"
     },
     "user_tz": -330
    },
    "id": "lUl2qPpkkihP",
    "outputId": "6f9bf017-8976-427c-ce77-8e7c6e406df6"
   },
   "outputs": [
    {
     "name": "stderr",
     "output_type": "stream",
     "text": [
      "[nltk_data] Error loading averaged_perceptron_tagger: <urlopen error\n",
      "[nltk_data]     [WinError 10060] A connection attempt failed because\n",
      "[nltk_data]     the connected party did not properly respond after a\n",
      "[nltk_data]     period of time, or established connection failed\n",
      "[nltk_data]     because connected host has failed to respond>\n",
      "[nltk_data] Error loading wordnet: <urlopen error [WinError 10065] A\n",
      "[nltk_data]     socket operation was attempted to an unreachable host>\n",
      "[nltk_data] Error loading stopwords: <urlopen error [Errno 11001]\n",
      "[nltk_data]     getaddrinfo failed>\n"
     ]
    }
   ],
   "source": [
    "\n",
    "import os\n",
    "import pandas as pd\n",
    "from datetime import datetime\n",
    "import seaborn as sns\n",
    "import matplotlib.pyplot as plt\n",
    "import re\n",
    "import nltk\n",
    "import numpy as np\n",
    "from textblob import TextBlob,Word\n",
    "from nltk.stem.porter import PorterStemmer\n",
    "from nltk.stem import WordNetLemmatizer\n",
    "nltk.download('averaged_perceptron_tagger')\n",
    "nltk.download('wordnet')\n",
    "from nltk.corpus import stopwords\n",
    "nltk.download('stopwords')\n",
    "from tqdm import tqdm\n",
    "tqdm.pandas()\n",
    "from sklearn.model_selection import train_test_split\n",
    "from sklearn.feature_extraction.text import CountVectorizer,TfidfVectorizer\n",
    "from sklearn.naive_bayes import MultinomialNB\n",
    "from sklearn.tree import DecisionTreeClassifier\n",
    "from sklearn.ensemble import RandomForestClassifier\n",
    "from sklearn.neighbors import KNeighborsClassifier\n",
    "from sklearn.linear_model import LogisticRegression \n",
    "from sklearn.metrics import accuracy_score,precision_score,recall_score"
   ]
  },
  {
   "cell_type": "code",
   "execution_count": null,
   "metadata": {
    "id": "jSDFi8zKTdN7"
   },
   "outputs": [],
   "source": [
    "# Unzip the zipped file\n",
    "! unzip '/content/drive/MyDrive/txt_reviews.zip' -d '/content/TT3'"
   ]
  },
  {
   "cell_type": "code",
   "execution_count": null,
   "metadata": {
    "colab": {
     "base_uri": "https://localhost:8080/"
    },
    "executionInfo": {
     "elapsed": 2344,
     "status": "ok",
     "timestamp": 1684001708728,
     "user": {
      "displayName": "k.vijay vijay",
      "userId": "06503366421292168170"
     },
     "user_tz": -330
    },
    "id": "sLJ8-zhRToZm",
    "outputId": "c191f936-bd0e-4865-c684-ae2705c1afde"
   },
   "outputs": [
    {
     "name": "stdout",
     "output_type": "stream",
     "text": [
      "['.config', 'drive', 'sample_data']\n"
     ]
    }
   ],
   "source": [
    "\n",
    "print(os.listdir())"
   ]
  },
  {
   "cell_type": "code",
   "execution_count": null,
   "metadata": {
    "id": "x_GNQLpjT5v5"
   },
   "outputs": [],
   "source": [
    "root_dir=(\"/content/TT2/txt_reviews\")\n",
    "file_names = os.listdir(\"/content/TT3/txt_reviews\")\n"
   ]
  },
  {
   "cell_type": "code",
   "execution_count": null,
   "metadata": {
    "id": "jEH5BlFsT5sb"
   },
   "outputs": [],
   "source": [
    "# Create the dataframe using the unzipped file\n",
    "product_id=[]\n",
    "userid=[]\n",
    "profilename=[]\n",
    "helpnessnumerator=[]\n",
    "helpnessdenominator=[]\n",
    "score=[]\n",
    "time=[]\n",
    "reviewsummary=[]\n",
    "reviewtext=[]\n",
    "for i in file_names:\n",
    "    with open(\"/content/TT3/txt_reviews/\"+i,\"r\") as f:\n",
    "        d=f.readlines()\n",
    "        p=d[0].split(\":\")\n",
    "        u=d[1].split(\":\")\n",
    "        pr=d[2].split(\":\")\n",
    "        he=d[3].split(\":\")\n",
    "        hel=d[4].split(\":\")\n",
    "        s=d[5].split(\":\")\n",
    "        t=d[6].split(\":\")\n",
    "        rs=d[7].split(\":\")\n",
    "        rt=d[8].split(\":\")\n",
    "        product_id.append(p[1])\n",
    "        userid.append(u[1])\n",
    "        profilename.append(pr[1])\n",
    "        helpnessnumerator.append(he[1])\n",
    "        helpnessdenominator.append(hel[1])\n",
    "        score.append(s[1])\n",
    "        time.append(t[1])\n",
    "        reviewsummary.append(rs[1])\n",
    "        reviewtext.append(rt[1])\n",
    "df=pd.DataFrame({\"productid\":product_id,\"userid\":userid,\"profilename\":profilename,\"helpnessnumerator\":helpnessnumerator\n",
    "                 ,\"helpnessdenominator\":helpnessdenominator,\"score\":score,\"time\":time,\"reviewsummary\":reviewsummary,\n",
    "                 \"reviewtext\":reviewtext})\n",
    "df.head()"
   ]
  },
  {
   "cell_type": "code",
   "execution_count": null,
   "metadata": {
    "id": "VR7B6qwYT5on"
   },
   "outputs": [],
   "source": [
    "for i in df.columns:\n",
    "    df[i]=df[i].apply(lambda x: x.strip(\"\\n\"))"
   ]
  },
  {
   "cell_type": "code",
   "execution_count": null,
   "metadata": {
    "id": "_D6LySHdT5ln"
   },
   "outputs": [],
   "source": [
    "df.head()"
   ]
  },
  {
   "cell_type": "code",
   "execution_count": null,
   "metadata": {
    "id": "09pEqOr3T5ij"
   },
   "outputs": [],
   "source": [
    "# Save the created dataframe\n",
    "df.to_csv('/content/drive/MyDrive/text_data.csv')"
   ]
  },
  {
   "cell_type": "code",
   "execution_count": null,
   "metadata": {
    "id": "84WUM-TROvf9"
   },
   "outputs": [],
   "source": [
    "# Load the dataframe\n",
    "df=pd.read_csv('/content/drive/MyDrive/text_data.csv')"
   ]
  },
  {
   "cell_type": "code",
   "execution_count": null,
   "metadata": {
    "colab": {
     "base_uri": "https://localhost:8080/",
     "height": 441
    },
    "executionInfo": {
     "elapsed": 78,
     "status": "ok",
     "timestamp": 1684329837614,
     "user": {
      "displayName": "k.vijay vijay",
      "userId": "06503366421292168170"
     },
     "user_tz": -330
    },
    "id": "HHnPw4OFPIuq",
    "outputId": "e8ab0f03-4a70-497b-97fc-8dee401ec763"
   },
   "outputs": [
    {
     "data": {
      "text/html": [
       "\n",
       "  <div id=\"df-1d82b40e-14d2-4107-86d1-57340e554cf3\">\n",
       "    <div class=\"colab-df-container\">\n",
       "      <div>\n",
       "<style scoped>\n",
       "    .dataframe tbody tr th:only-of-type {\n",
       "        vertical-align: middle;\n",
       "    }\n",
       "\n",
       "    .dataframe tbody tr th {\n",
       "        vertical-align: top;\n",
       "    }\n",
       "\n",
       "    .dataframe thead th {\n",
       "        text-align: right;\n",
       "    }\n",
       "</style>\n",
       "<table border=\"1\" class=\"dataframe\">\n",
       "  <thead>\n",
       "    <tr style=\"text-align: right;\">\n",
       "      <th></th>\n",
       "      <th>Unnamed: 0</th>\n",
       "      <th>productid</th>\n",
       "      <th>userid</th>\n",
       "      <th>profilename</th>\n",
       "      <th>helpnessnumerator</th>\n",
       "      <th>helpnessdenominator</th>\n",
       "      <th>score</th>\n",
       "      <th>time</th>\n",
       "      <th>reviewsummary</th>\n",
       "      <th>reviewtext</th>\n",
       "    </tr>\n",
       "  </thead>\n",
       "  <tbody>\n",
       "    <tr>\n",
       "      <th>0</th>\n",
       "      <td>0</td>\n",
       "      <td>B00086IB8O</td>\n",
       "      <td>A3QG1YR5Z5ENYM</td>\n",
       "      <td>Angel D. Rushing</td>\n",
       "      <td>1</td>\n",
       "      <td>1</td>\n",
       "      <td>2</td>\n",
       "      <td>1261785600</td>\n",
       "      <td>A little bitter - Not what I expected</td>\n",
       "      <td>I wanted to make a winter wedding cake that h...</td>\n",
       "    </tr>\n",
       "    <tr>\n",
       "      <th>1</th>\n",
       "      <td>1</td>\n",
       "      <td>B004OQADMQ</td>\n",
       "      <td>A1N0RUUU70QRZS</td>\n",
       "      <td>Christiane Shumake</td>\n",
       "      <td>0</td>\n",
       "      <td>0</td>\n",
       "      <td>5</td>\n",
       "      <td>1328486400</td>\n",
       "      <td>Not just for babies</td>\n",
       "      <td>I have to give my elderly mother pureed foods...</td>\n",
       "    </tr>\n",
       "    <tr>\n",
       "      <th>2</th>\n",
       "      <td>2</td>\n",
       "      <td>B005T7P2QQ</td>\n",
       "      <td>A235MEPJMXXF66</td>\n",
       "      <td>Frank R. Portscheller</td>\n",
       "      <td>0</td>\n",
       "      <td>0</td>\n",
       "      <td>5</td>\n",
       "      <td>1342310400</td>\n",
       "      <td>delicous</td>\n",
       "      <td>I recently came across this very delicous sod...</td>\n",
       "    </tr>\n",
       "    <tr>\n",
       "      <th>3</th>\n",
       "      <td>3</td>\n",
       "      <td>B007RTR8TS</td>\n",
       "      <td>AQCQ5F0OJXMG9</td>\n",
       "      <td>Crystal Starr Light</td>\n",
       "      <td>0</td>\n",
       "      <td>0</td>\n",
       "      <td>5</td>\n",
       "      <td>1338768000</td>\n",
       "      <td>Goodbye Garnier Fructus, Hello Clear Scalp &amp; ...</td>\n",
       "      <td>I have thick shoulder-length hair that every ...</td>\n",
       "    </tr>\n",
       "    <tr>\n",
       "      <th>4</th>\n",
       "      <td>4</td>\n",
       "      <td>B003P9XFW8</td>\n",
       "      <td>A1XZU3UA1LDHUM</td>\n",
       "      <td>Kristol King \"k2ing1\"</td>\n",
       "      <td>0</td>\n",
       "      <td>0</td>\n",
       "      <td>5</td>\n",
       "      <td>1351209600</td>\n",
       "      <td>Excellent Dog Food</td>\n",
       "      <td>My dog loves it and she absorbes it well.  He...</td>\n",
       "    </tr>\n",
       "  </tbody>\n",
       "</table>\n",
       "</div>\n",
       "      <button class=\"colab-df-convert\" onclick=\"convertToInteractive('df-1d82b40e-14d2-4107-86d1-57340e554cf3')\"\n",
       "              title=\"Convert this dataframe to an interactive table.\"\n",
       "              style=\"display:none;\">\n",
       "        \n",
       "  <svg xmlns=\"http://www.w3.org/2000/svg\" height=\"24px\"viewBox=\"0 0 24 24\"\n",
       "       width=\"24px\">\n",
       "    <path d=\"M0 0h24v24H0V0z\" fill=\"none\"/>\n",
       "    <path d=\"M18.56 5.44l.94 2.06.94-2.06 2.06-.94-2.06-.94-.94-2.06-.94 2.06-2.06.94zm-11 1L8.5 8.5l.94-2.06 2.06-.94-2.06-.94L8.5 2.5l-.94 2.06-2.06.94zm10 10l.94 2.06.94-2.06 2.06-.94-2.06-.94-.94-2.06-.94 2.06-2.06.94z\"/><path d=\"M17.41 7.96l-1.37-1.37c-.4-.4-.92-.59-1.43-.59-.52 0-1.04.2-1.43.59L10.3 9.45l-7.72 7.72c-.78.78-.78 2.05 0 2.83L4 21.41c.39.39.9.59 1.41.59.51 0 1.02-.2 1.41-.59l7.78-7.78 2.81-2.81c.8-.78.8-2.07 0-2.86zM5.41 20L4 18.59l7.72-7.72 1.47 1.35L5.41 20z\"/>\n",
       "  </svg>\n",
       "      </button>\n",
       "      \n",
       "  <style>\n",
       "    .colab-df-container {\n",
       "      display:flex;\n",
       "      flex-wrap:wrap;\n",
       "      gap: 12px;\n",
       "    }\n",
       "\n",
       "    .colab-df-convert {\n",
       "      background-color: #E8F0FE;\n",
       "      border: none;\n",
       "      border-radius: 50%;\n",
       "      cursor: pointer;\n",
       "      display: none;\n",
       "      fill: #1967D2;\n",
       "      height: 32px;\n",
       "      padding: 0 0 0 0;\n",
       "      width: 32px;\n",
       "    }\n",
       "\n",
       "    .colab-df-convert:hover {\n",
       "      background-color: #E2EBFA;\n",
       "      box-shadow: 0px 1px 2px rgba(60, 64, 67, 0.3), 0px 1px 3px 1px rgba(60, 64, 67, 0.15);\n",
       "      fill: #174EA6;\n",
       "    }\n",
       "\n",
       "    [theme=dark] .colab-df-convert {\n",
       "      background-color: #3B4455;\n",
       "      fill: #D2E3FC;\n",
       "    }\n",
       "\n",
       "    [theme=dark] .colab-df-convert:hover {\n",
       "      background-color: #434B5C;\n",
       "      box-shadow: 0px 1px 3px 1px rgba(0, 0, 0, 0.15);\n",
       "      filter: drop-shadow(0px 1px 2px rgba(0, 0, 0, 0.3));\n",
       "      fill: #FFFFFF;\n",
       "    }\n",
       "  </style>\n",
       "\n",
       "      <script>\n",
       "        const buttonEl =\n",
       "          document.querySelector('#df-1d82b40e-14d2-4107-86d1-57340e554cf3 button.colab-df-convert');\n",
       "        buttonEl.style.display =\n",
       "          google.colab.kernel.accessAllowed ? 'block' : 'none';\n",
       "\n",
       "        async function convertToInteractive(key) {\n",
       "          const element = document.querySelector('#df-1d82b40e-14d2-4107-86d1-57340e554cf3');\n",
       "          const dataTable =\n",
       "            await google.colab.kernel.invokeFunction('convertToInteractive',\n",
       "                                                     [key], {});\n",
       "          if (!dataTable) return;\n",
       "\n",
       "          const docLinkHtml = 'Like what you see? Visit the ' +\n",
       "            '<a target=\"_blank\" href=https://colab.research.google.com/notebooks/data_table.ipynb>data table notebook</a>'\n",
       "            + ' to learn more about interactive tables.';\n",
       "          element.innerHTML = '';\n",
       "          dataTable['output_type'] = 'display_data';\n",
       "          await google.colab.output.renderOutput(dataTable, element);\n",
       "          const docLink = document.createElement('div');\n",
       "          docLink.innerHTML = docLinkHtml;\n",
       "          element.appendChild(docLink);\n",
       "        }\n",
       "      </script>\n",
       "    </div>\n",
       "  </div>\n",
       "  "
      ],
      "text/plain": [
       "   Unnamed: 0    productid           userid             profilename  \\\n",
       "0           0   B00086IB8O   A3QG1YR5Z5ENYM        Angel D. Rushing   \n",
       "1           1   B004OQADMQ   A1N0RUUU70QRZS      Christiane Shumake   \n",
       "2           2   B005T7P2QQ   A235MEPJMXXF66   Frank R. Portscheller   \n",
       "3           3   B007RTR8TS    AQCQ5F0OJXMG9     Crystal Starr Light   \n",
       "4           4   B003P9XFW8   A1XZU3UA1LDHUM   Kristol King \"k2ing1\"   \n",
       "\n",
       "   helpnessnumerator  helpnessdenominator  score        time  \\\n",
       "0                  1                    1      2  1261785600   \n",
       "1                  0                    0      5  1328486400   \n",
       "2                  0                    0      5  1342310400   \n",
       "3                  0                    0      5  1338768000   \n",
       "4                  0                    0      5  1351209600   \n",
       "\n",
       "                                       reviewsummary  \\\n",
       "0              A little bitter - Not what I expected   \n",
       "1                                Not just for babies   \n",
       "2                                           delicous   \n",
       "3   Goodbye Garnier Fructus, Hello Clear Scalp & ...   \n",
       "4                                 Excellent Dog Food   \n",
       "\n",
       "                                          reviewtext  \n",
       "0   I wanted to make a winter wedding cake that h...  \n",
       "1   I have to give my elderly mother pureed foods...  \n",
       "2   I recently came across this very delicous sod...  \n",
       "3   I have thick shoulder-length hair that every ...  \n",
       "4   My dog loves it and she absorbes it well.  He...  "
      ]
     },
     "execution_count": 4,
     "metadata": {},
     "output_type": "execute_result"
    }
   ],
   "source": [
    "df.head()"
   ]
  },
  {
   "cell_type": "code",
   "execution_count": null,
   "metadata": {
    "id": "n28lQZe6RL_Q"
   },
   "outputs": [],
   "source": [
    "# Remove the insignificient feature\n",
    "df=df.drop(['Unnamed: 0'],axis=1)"
   ]
  },
  {
   "cell_type": "code",
   "execution_count": null,
   "metadata": {
    "colab": {
     "base_uri": "https://localhost:8080/"
    },
    "executionInfo": {
     "elapsed": 67,
     "status": "ok",
     "timestamp": 1684329837621,
     "user": {
      "displayName": "k.vijay vijay",
      "userId": "06503366421292168170"
     },
     "user_tz": -330
    },
    "id": "JPf4iIP1STFA",
    "outputId": "da4ab573-6227-413f-c58c-4bfe272f354b"
   },
   "outputs": [
    {
     "data": {
      "text/plain": [
       "(568454, 9)"
      ]
     },
     "execution_count": 6,
     "metadata": {},
     "output_type": "execute_result"
    }
   ],
   "source": [
    "# Shape of Data\n",
    "df.shape"
   ]
  },
  {
   "cell_type": "code",
   "execution_count": null,
   "metadata": {
    "colab": {
     "base_uri": "https://localhost:8080/"
    },
    "executionInfo": {
     "elapsed": 866,
     "status": "ok",
     "timestamp": 1684329838427,
     "user": {
      "displayName": "k.vijay vijay",
      "userId": "06503366421292168170"
     },
     "user_tz": -330
    },
    "id": "ikz57OtxR9LL",
    "outputId": "f406de8a-4767-4182-dcc9-786b227d5703"
   },
   "outputs": [
    {
     "name": "stdout",
     "output_type": "stream",
     "text": [
      "<class 'pandas.core.frame.DataFrame'>\n",
      "RangeIndex: 568454 entries, 0 to 568453\n",
      "Data columns (total 9 columns):\n",
      " #   Column               Non-Null Count   Dtype \n",
      "---  ------               --------------   ----- \n",
      " 0   productid            568454 non-null  object\n",
      " 1   userid               568454 non-null  object\n",
      " 2   profilename          568454 non-null  object\n",
      " 3   helpnessnumerator    568454 non-null  int64 \n",
      " 4   helpnessdenominator  568454 non-null  int64 \n",
      " 5   score                568454 non-null  int64 \n",
      " 6   time                 568454 non-null  int64 \n",
      " 7   reviewsummary        568454 non-null  object\n",
      " 8   reviewtext           568454 non-null  object\n",
      "dtypes: int64(4), object(5)\n",
      "memory usage: 39.0+ MB\n"
     ]
    }
   ],
   "source": [
    "\n",
    "# Basic information of the data\n",
    "df.info()"
   ]
  },
  {
   "cell_type": "code",
   "execution_count": null,
   "metadata": {
    "colab": {
     "base_uri": "https://localhost:8080/"
    },
    "executionInfo": {
     "elapsed": 119,
     "status": "ok",
     "timestamp": 1684329838427,
     "user": {
      "displayName": "k.vijay vijay",
      "userId": "06503366421292168170"
     },
     "user_tz": -330
    },
    "id": "T5v6N4YHSLIQ",
    "outputId": "e7216e3b-953b-43b2-868b-3d28d3ca35da"
   },
   "outputs": [
    {
     "data": {
      "text/plain": [
       "productid              0\n",
       "userid                 0\n",
       "profilename            0\n",
       "helpnessnumerator      0\n",
       "helpnessdenominator    0\n",
       "score                  0\n",
       "time                   0\n",
       "reviewsummary          0\n",
       "reviewtext             0\n",
       "dtype: int64"
      ]
     },
     "execution_count": 8,
     "metadata": {},
     "output_type": "execute_result"
    }
   ],
   "source": [
    "# Checking for null values\n",
    "df.isna().sum()"
   ]
  },
  {
   "cell_type": "code",
   "execution_count": null,
   "metadata": {
    "colab": {
     "base_uri": "https://localhost:8080/",
     "height": 269
    },
    "executionInfo": {
     "elapsed": 112,
     "status": "ok",
     "timestamp": 1684329838428,
     "user": {
      "displayName": "k.vijay vijay",
      "userId": "06503366421292168170"
     },
     "user_tz": -330
    },
    "id": "uRgHK3wjSlo1",
    "outputId": "82ecaa61-5474-4357-aa18-4e7de2734da9"
   },
   "outputs": [
    {
     "data": {
      "text/html": [
       "\n",
       "  <div id=\"df-f34efc76-c5da-4d01-bbb2-4a39f4705392\">\n",
       "    <div class=\"colab-df-container\">\n",
       "      <div>\n",
       "<style scoped>\n",
       "    .dataframe tbody tr th:only-of-type {\n",
       "        vertical-align: middle;\n",
       "    }\n",
       "\n",
       "    .dataframe tbody tr th {\n",
       "        vertical-align: top;\n",
       "    }\n",
       "\n",
       "    .dataframe thead th {\n",
       "        text-align: right;\n",
       "    }\n",
       "</style>\n",
       "<table border=\"1\" class=\"dataframe\">\n",
       "  <thead>\n",
       "    <tr style=\"text-align: right;\">\n",
       "      <th></th>\n",
       "      <th>helpnessnumerator</th>\n",
       "      <th>helpnessdenominator</th>\n",
       "      <th>score</th>\n",
       "      <th>time</th>\n",
       "    </tr>\n",
       "  </thead>\n",
       "  <tbody>\n",
       "    <tr>\n",
       "      <th>mean</th>\n",
       "      <td>1.743817</td>\n",
       "      <td>2.22881</td>\n",
       "      <td>4.183199</td>\n",
       "      <td>1.296257e+09</td>\n",
       "    </tr>\n",
       "    <tr>\n",
       "      <th>std</th>\n",
       "      <td>7.636513</td>\n",
       "      <td>8.28974</td>\n",
       "      <td>1.310436</td>\n",
       "      <td>4.804331e+07</td>\n",
       "    </tr>\n",
       "    <tr>\n",
       "      <th>min</th>\n",
       "      <td>0.000000</td>\n",
       "      <td>0.00000</td>\n",
       "      <td>1.000000</td>\n",
       "      <td>9.393408e+08</td>\n",
       "    </tr>\n",
       "    <tr>\n",
       "      <th>25%</th>\n",
       "      <td>0.000000</td>\n",
       "      <td>0.00000</td>\n",
       "      <td>4.000000</td>\n",
       "      <td>1.271290e+09</td>\n",
       "    </tr>\n",
       "    <tr>\n",
       "      <th>50%</th>\n",
       "      <td>0.000000</td>\n",
       "      <td>1.00000</td>\n",
       "      <td>5.000000</td>\n",
       "      <td>1.311120e+09</td>\n",
       "    </tr>\n",
       "    <tr>\n",
       "      <th>75%</th>\n",
       "      <td>2.000000</td>\n",
       "      <td>2.00000</td>\n",
       "      <td>5.000000</td>\n",
       "      <td>1.332720e+09</td>\n",
       "    </tr>\n",
       "    <tr>\n",
       "      <th>max</th>\n",
       "      <td>866.000000</td>\n",
       "      <td>923.00000</td>\n",
       "      <td>5.000000</td>\n",
       "      <td>1.351210e+09</td>\n",
       "    </tr>\n",
       "  </tbody>\n",
       "</table>\n",
       "</div>\n",
       "      <button class=\"colab-df-convert\" onclick=\"convertToInteractive('df-f34efc76-c5da-4d01-bbb2-4a39f4705392')\"\n",
       "              title=\"Convert this dataframe to an interactive table.\"\n",
       "              style=\"display:none;\">\n",
       "        \n",
       "  <svg xmlns=\"http://www.w3.org/2000/svg\" height=\"24px\"viewBox=\"0 0 24 24\"\n",
       "       width=\"24px\">\n",
       "    <path d=\"M0 0h24v24H0V0z\" fill=\"none\"/>\n",
       "    <path d=\"M18.56 5.44l.94 2.06.94-2.06 2.06-.94-2.06-.94-.94-2.06-.94 2.06-2.06.94zm-11 1L8.5 8.5l.94-2.06 2.06-.94-2.06-.94L8.5 2.5l-.94 2.06-2.06.94zm10 10l.94 2.06.94-2.06 2.06-.94-2.06-.94-.94-2.06-.94 2.06-2.06.94z\"/><path d=\"M17.41 7.96l-1.37-1.37c-.4-.4-.92-.59-1.43-.59-.52 0-1.04.2-1.43.59L10.3 9.45l-7.72 7.72c-.78.78-.78 2.05 0 2.83L4 21.41c.39.39.9.59 1.41.59.51 0 1.02-.2 1.41-.59l7.78-7.78 2.81-2.81c.8-.78.8-2.07 0-2.86zM5.41 20L4 18.59l7.72-7.72 1.47 1.35L5.41 20z\"/>\n",
       "  </svg>\n",
       "      </button>\n",
       "      \n",
       "  <style>\n",
       "    .colab-df-container {\n",
       "      display:flex;\n",
       "      flex-wrap:wrap;\n",
       "      gap: 12px;\n",
       "    }\n",
       "\n",
       "    .colab-df-convert {\n",
       "      background-color: #E8F0FE;\n",
       "      border: none;\n",
       "      border-radius: 50%;\n",
       "      cursor: pointer;\n",
       "      display: none;\n",
       "      fill: #1967D2;\n",
       "      height: 32px;\n",
       "      padding: 0 0 0 0;\n",
       "      width: 32px;\n",
       "    }\n",
       "\n",
       "    .colab-df-convert:hover {\n",
       "      background-color: #E2EBFA;\n",
       "      box-shadow: 0px 1px 2px rgba(60, 64, 67, 0.3), 0px 1px 3px 1px rgba(60, 64, 67, 0.15);\n",
       "      fill: #174EA6;\n",
       "    }\n",
       "\n",
       "    [theme=dark] .colab-df-convert {\n",
       "      background-color: #3B4455;\n",
       "      fill: #D2E3FC;\n",
       "    }\n",
       "\n",
       "    [theme=dark] .colab-df-convert:hover {\n",
       "      background-color: #434B5C;\n",
       "      box-shadow: 0px 1px 3px 1px rgba(0, 0, 0, 0.15);\n",
       "      filter: drop-shadow(0px 1px 2px rgba(0, 0, 0, 0.3));\n",
       "      fill: #FFFFFF;\n",
       "    }\n",
       "  </style>\n",
       "\n",
       "      <script>\n",
       "        const buttonEl =\n",
       "          document.querySelector('#df-f34efc76-c5da-4d01-bbb2-4a39f4705392 button.colab-df-convert');\n",
       "        buttonEl.style.display =\n",
       "          google.colab.kernel.accessAllowed ? 'block' : 'none';\n",
       "\n",
       "        async function convertToInteractive(key) {\n",
       "          const element = document.querySelector('#df-f34efc76-c5da-4d01-bbb2-4a39f4705392');\n",
       "          const dataTable =\n",
       "            await google.colab.kernel.invokeFunction('convertToInteractive',\n",
       "                                                     [key], {});\n",
       "          if (!dataTable) return;\n",
       "\n",
       "          const docLinkHtml = 'Like what you see? Visit the ' +\n",
       "            '<a target=\"_blank\" href=https://colab.research.google.com/notebooks/data_table.ipynb>data table notebook</a>'\n",
       "            + ' to learn more about interactive tables.';\n",
       "          element.innerHTML = '';\n",
       "          dataTable['output_type'] = 'display_data';\n",
       "          await google.colab.output.renderOutput(dataTable, element);\n",
       "          const docLink = document.createElement('div');\n",
       "          docLink.innerHTML = docLinkHtml;\n",
       "          element.appendChild(docLink);\n",
       "        }\n",
       "      </script>\n",
       "    </div>\n",
       "  </div>\n",
       "  "
      ],
      "text/plain": [
       "      helpnessnumerator  helpnessdenominator     score          time\n",
       "mean           1.743817              2.22881  4.183199  1.296257e+09\n",
       "std            7.636513              8.28974  1.310436  4.804331e+07\n",
       "min            0.000000              0.00000  1.000000  9.393408e+08\n",
       "25%            0.000000              0.00000  4.000000  1.271290e+09\n",
       "50%            0.000000              1.00000  5.000000  1.311120e+09\n",
       "75%            2.000000              2.00000  5.000000  1.332720e+09\n",
       "max          866.000000            923.00000  5.000000  1.351210e+09"
      ]
     },
     "execution_count": 9,
     "metadata": {},
     "output_type": "execute_result"
    }
   ],
   "source": [
    "# Descriptive Statistics of the numerical data\n",
    "df.describe().iloc[1:,:]"
   ]
  },
  {
   "cell_type": "markdown",
   "metadata": {
    "id": "ws-dU4xIExYt"
   },
   "source": [
    "# Data Cleaning"
   ]
  },
  {
   "cell_type": "code",
   "execution_count": null,
   "metadata": {
    "id": "JmluK5fOSuid"
   },
   "outputs": [],
   "source": [
    "# Converted to the datetime datatype\n",
    "df['time'] = pd.to_datetime(df['time'])"
   ]
  },
  {
   "cell_type": "code",
   "execution_count": null,
   "metadata": {
    "colab": {
     "base_uri": "https://localhost:8080/",
     "height": 424
    },
    "executionInfo": {
     "elapsed": 53,
     "status": "ok",
     "timestamp": 1684329839033,
     "user": {
      "displayName": "k.vijay vijay",
      "userId": "06503366421292168170"
     },
     "user_tz": -330
    },
    "id": "TYIVj3aSTce0",
    "outputId": "70cf02c9-d906-465f-e63e-239b840d2518"
   },
   "outputs": [
    {
     "data": {
      "text/html": [
       "\n",
       "  <div id=\"df-59b6b107-edbc-45ef-870f-6b51a1ac7707\">\n",
       "    <div class=\"colab-df-container\">\n",
       "      <div>\n",
       "<style scoped>\n",
       "    .dataframe tbody tr th:only-of-type {\n",
       "        vertical-align: middle;\n",
       "    }\n",
       "\n",
       "    .dataframe tbody tr th {\n",
       "        vertical-align: top;\n",
       "    }\n",
       "\n",
       "    .dataframe thead th {\n",
       "        text-align: right;\n",
       "    }\n",
       "</style>\n",
       "<table border=\"1\" class=\"dataframe\">\n",
       "  <thead>\n",
       "    <tr style=\"text-align: right;\">\n",
       "      <th></th>\n",
       "      <th>productid</th>\n",
       "      <th>userid</th>\n",
       "      <th>profilename</th>\n",
       "      <th>helpnessnumerator</th>\n",
       "      <th>helpnessdenominator</th>\n",
       "      <th>score</th>\n",
       "      <th>time</th>\n",
       "      <th>reviewsummary</th>\n",
       "      <th>reviewtext</th>\n",
       "    </tr>\n",
       "  </thead>\n",
       "  <tbody>\n",
       "    <tr>\n",
       "      <th>0</th>\n",
       "      <td>B00086IB8O</td>\n",
       "      <td>A3QG1YR5Z5ENYM</td>\n",
       "      <td>Angel D. Rushing</td>\n",
       "      <td>1</td>\n",
       "      <td>1</td>\n",
       "      <td>2</td>\n",
       "      <td>1970-01-01 00:00:01.261785600</td>\n",
       "      <td>A little bitter - Not what I expected</td>\n",
       "      <td>I wanted to make a winter wedding cake that h...</td>\n",
       "    </tr>\n",
       "    <tr>\n",
       "      <th>1</th>\n",
       "      <td>B004OQADMQ</td>\n",
       "      <td>A1N0RUUU70QRZS</td>\n",
       "      <td>Christiane Shumake</td>\n",
       "      <td>0</td>\n",
       "      <td>0</td>\n",
       "      <td>5</td>\n",
       "      <td>1970-01-01 00:00:01.328486400</td>\n",
       "      <td>Not just for babies</td>\n",
       "      <td>I have to give my elderly mother pureed foods...</td>\n",
       "    </tr>\n",
       "    <tr>\n",
       "      <th>2</th>\n",
       "      <td>B005T7P2QQ</td>\n",
       "      <td>A235MEPJMXXF66</td>\n",
       "      <td>Frank R. Portscheller</td>\n",
       "      <td>0</td>\n",
       "      <td>0</td>\n",
       "      <td>5</td>\n",
       "      <td>1970-01-01 00:00:01.342310400</td>\n",
       "      <td>delicous</td>\n",
       "      <td>I recently came across this very delicous sod...</td>\n",
       "    </tr>\n",
       "    <tr>\n",
       "      <th>3</th>\n",
       "      <td>B007RTR8TS</td>\n",
       "      <td>AQCQ5F0OJXMG9</td>\n",
       "      <td>Crystal Starr Light</td>\n",
       "      <td>0</td>\n",
       "      <td>0</td>\n",
       "      <td>5</td>\n",
       "      <td>1970-01-01 00:00:01.338768000</td>\n",
       "      <td>Goodbye Garnier Fructus, Hello Clear Scalp &amp; ...</td>\n",
       "      <td>I have thick shoulder-length hair that every ...</td>\n",
       "    </tr>\n",
       "    <tr>\n",
       "      <th>4</th>\n",
       "      <td>B003P9XFW8</td>\n",
       "      <td>A1XZU3UA1LDHUM</td>\n",
       "      <td>Kristol King \"k2ing1\"</td>\n",
       "      <td>0</td>\n",
       "      <td>0</td>\n",
       "      <td>5</td>\n",
       "      <td>1970-01-01 00:00:01.351209600</td>\n",
       "      <td>Excellent Dog Food</td>\n",
       "      <td>My dog loves it and she absorbes it well.  He...</td>\n",
       "    </tr>\n",
       "  </tbody>\n",
       "</table>\n",
       "</div>\n",
       "      <button class=\"colab-df-convert\" onclick=\"convertToInteractive('df-59b6b107-edbc-45ef-870f-6b51a1ac7707')\"\n",
       "              title=\"Convert this dataframe to an interactive table.\"\n",
       "              style=\"display:none;\">\n",
       "        \n",
       "  <svg xmlns=\"http://www.w3.org/2000/svg\" height=\"24px\"viewBox=\"0 0 24 24\"\n",
       "       width=\"24px\">\n",
       "    <path d=\"M0 0h24v24H0V0z\" fill=\"none\"/>\n",
       "    <path d=\"M18.56 5.44l.94 2.06.94-2.06 2.06-.94-2.06-.94-.94-2.06-.94 2.06-2.06.94zm-11 1L8.5 8.5l.94-2.06 2.06-.94-2.06-.94L8.5 2.5l-.94 2.06-2.06.94zm10 10l.94 2.06.94-2.06 2.06-.94-2.06-.94-.94-2.06-.94 2.06-2.06.94z\"/><path d=\"M17.41 7.96l-1.37-1.37c-.4-.4-.92-.59-1.43-.59-.52 0-1.04.2-1.43.59L10.3 9.45l-7.72 7.72c-.78.78-.78 2.05 0 2.83L4 21.41c.39.39.9.59 1.41.59.51 0 1.02-.2 1.41-.59l7.78-7.78 2.81-2.81c.8-.78.8-2.07 0-2.86zM5.41 20L4 18.59l7.72-7.72 1.47 1.35L5.41 20z\"/>\n",
       "  </svg>\n",
       "      </button>\n",
       "      \n",
       "  <style>\n",
       "    .colab-df-container {\n",
       "      display:flex;\n",
       "      flex-wrap:wrap;\n",
       "      gap: 12px;\n",
       "    }\n",
       "\n",
       "    .colab-df-convert {\n",
       "      background-color: #E8F0FE;\n",
       "      border: none;\n",
       "      border-radius: 50%;\n",
       "      cursor: pointer;\n",
       "      display: none;\n",
       "      fill: #1967D2;\n",
       "      height: 32px;\n",
       "      padding: 0 0 0 0;\n",
       "      width: 32px;\n",
       "    }\n",
       "\n",
       "    .colab-df-convert:hover {\n",
       "      background-color: #E2EBFA;\n",
       "      box-shadow: 0px 1px 2px rgba(60, 64, 67, 0.3), 0px 1px 3px 1px rgba(60, 64, 67, 0.15);\n",
       "      fill: #174EA6;\n",
       "    }\n",
       "\n",
       "    [theme=dark] .colab-df-convert {\n",
       "      background-color: #3B4455;\n",
       "      fill: #D2E3FC;\n",
       "    }\n",
       "\n",
       "    [theme=dark] .colab-df-convert:hover {\n",
       "      background-color: #434B5C;\n",
       "      box-shadow: 0px 1px 3px 1px rgba(0, 0, 0, 0.15);\n",
       "      filter: drop-shadow(0px 1px 2px rgba(0, 0, 0, 0.3));\n",
       "      fill: #FFFFFF;\n",
       "    }\n",
       "  </style>\n",
       "\n",
       "      <script>\n",
       "        const buttonEl =\n",
       "          document.querySelector('#df-59b6b107-edbc-45ef-870f-6b51a1ac7707 button.colab-df-convert');\n",
       "        buttonEl.style.display =\n",
       "          google.colab.kernel.accessAllowed ? 'block' : 'none';\n",
       "\n",
       "        async function convertToInteractive(key) {\n",
       "          const element = document.querySelector('#df-59b6b107-edbc-45ef-870f-6b51a1ac7707');\n",
       "          const dataTable =\n",
       "            await google.colab.kernel.invokeFunction('convertToInteractive',\n",
       "                                                     [key], {});\n",
       "          if (!dataTable) return;\n",
       "\n",
       "          const docLinkHtml = 'Like what you see? Visit the ' +\n",
       "            '<a target=\"_blank\" href=https://colab.research.google.com/notebooks/data_table.ipynb>data table notebook</a>'\n",
       "            + ' to learn more about interactive tables.';\n",
       "          element.innerHTML = '';\n",
       "          dataTable['output_type'] = 'display_data';\n",
       "          await google.colab.output.renderOutput(dataTable, element);\n",
       "          const docLink = document.createElement('div');\n",
       "          docLink.innerHTML = docLinkHtml;\n",
       "          element.appendChild(docLink);\n",
       "        }\n",
       "      </script>\n",
       "    </div>\n",
       "  </div>\n",
       "  "
      ],
      "text/plain": [
       "     productid           userid             profilename  helpnessnumerator  \\\n",
       "0   B00086IB8O   A3QG1YR5Z5ENYM        Angel D. Rushing                  1   \n",
       "1   B004OQADMQ   A1N0RUUU70QRZS      Christiane Shumake                  0   \n",
       "2   B005T7P2QQ   A235MEPJMXXF66   Frank R. Portscheller                  0   \n",
       "3   B007RTR8TS    AQCQ5F0OJXMG9     Crystal Starr Light                  0   \n",
       "4   B003P9XFW8   A1XZU3UA1LDHUM   Kristol King \"k2ing1\"                  0   \n",
       "\n",
       "   helpnessdenominator  score                          time  \\\n",
       "0                    1      2 1970-01-01 00:00:01.261785600   \n",
       "1                    0      5 1970-01-01 00:00:01.328486400   \n",
       "2                    0      5 1970-01-01 00:00:01.342310400   \n",
       "3                    0      5 1970-01-01 00:00:01.338768000   \n",
       "4                    0      5 1970-01-01 00:00:01.351209600   \n",
       "\n",
       "                                       reviewsummary  \\\n",
       "0              A little bitter - Not what I expected   \n",
       "1                                Not just for babies   \n",
       "2                                           delicous   \n",
       "3   Goodbye Garnier Fructus, Hello Clear Scalp & ...   \n",
       "4                                 Excellent Dog Food   \n",
       "\n",
       "                                          reviewtext  \n",
       "0   I wanted to make a winter wedding cake that h...  \n",
       "1   I have to give my elderly mother pureed foods...  \n",
       "2   I recently came across this very delicous sod...  \n",
       "3   I have thick shoulder-length hair that every ...  \n",
       "4   My dog loves it and she absorbes it well.  He...  "
      ]
     },
     "execution_count": 11,
     "metadata": {},
     "output_type": "execute_result"
    }
   ],
   "source": [
    "df.head()"
   ]
  },
  {
   "cell_type": "code",
   "execution_count": null,
   "metadata": {
    "colab": {
     "base_uri": "https://localhost:8080/"
    },
    "executionInfo": {
     "elapsed": 673,
     "status": "ok",
     "timestamp": 1684329839656,
     "user": {
      "displayName": "k.vijay vijay",
      "userId": "06503366421292168170"
     },
     "user_tz": -330
    },
    "id": "7y2W2l8EX3Lc",
    "outputId": "055fa950-d23b-4df6-9935-a77386d849fb"
   },
   "outputs": [
    {
     "data": {
      "text/plain": [
       "287"
      ]
     },
     "execution_count": 12,
     "metadata": {},
     "output_type": "execute_result"
    }
   ],
   "source": [
    "\n",
    "# Checking for duplicate values\n",
    "df.duplicated().sum()"
   ]
  },
  {
   "cell_type": "code",
   "execution_count": null,
   "metadata": {
    "id": "HjwACOEa_CiN"
   },
   "outputs": [],
   "source": [
    "# Drop the duplicates\n",
    "df.drop_duplicates(inplace=True)"
   ]
  },
  {
   "cell_type": "code",
   "execution_count": null,
   "metadata": {
    "colab": {
     "base_uri": "https://localhost:8080/"
    },
    "executionInfo": {
     "elapsed": 670,
     "status": "ok",
     "timestamp": 1684329841829,
     "user": {
      "displayName": "k.vijay vijay",
      "userId": "06503366421292168170"
     },
     "user_tz": -330
    },
    "id": "yjjzpqWo_Z9W",
    "outputId": "1a96f056-fcb1-4958-a1bb-748e94cfea7e"
   },
   "outputs": [
    {
     "data": {
      "text/plain": [
       "0"
      ]
     },
     "execution_count": 14,
     "metadata": {},
     "output_type": "execute_result"
    }
   ],
   "source": [
    "\n",
    "# Checking for duplicate values\n",
    "df.duplicated().sum()\n"
   ]
  },
  {
   "cell_type": "code",
   "execution_count": null,
   "metadata": {
    "id": "Cce2elJpZ0r9"
   },
   "outputs": [],
   "source": [
    "# Create the helpfulness feature using the given features helpnessnumerator and helpnessdenominator\n",
    "df['helpfulness'] = df['helpnessnumerator']/df['helpnessdenominator']"
   ]
  },
  {
   "cell_type": "code",
   "execution_count": null,
   "metadata": {
    "id": "ZGJyRLlm__UP"
   },
   "outputs": [],
   "source": [
    "# We fill the missing values with 0 .In the above cell helpnessnumerator,helpnessdenominator may be zero.\n",
    "df['helpfulness'].fillna(0,inplace=True)"
   ]
  },
  {
   "cell_type": "code",
   "execution_count": null,
   "metadata": {
    "colab": {
     "base_uri": "https://localhost:8080/"
    },
    "executionInfo": {
     "elapsed": 22,
     "status": "ok",
     "timestamp": 1684329842585,
     "user": {
      "displayName": "k.vijay vijay",
      "userId": "06503366421292168170"
     },
     "user_tz": -330
    },
    "id": "aS_cuqxwYWZM",
    "outputId": "c16c58c9-4558-4491-afb6-a299f22ebb7b"
   },
   "outputs": [
    {
     "name": "stdout",
     "output_type": "stream",
     "text": [
      "<class 'pandas.core.frame.DataFrame'>\n",
      "Int64Index: 568167 entries, 0 to 568453\n",
      "Data columns (total 10 columns):\n",
      " #   Column               Non-Null Count   Dtype         \n",
      "---  ------               --------------   -----         \n",
      " 0   productid            568167 non-null  object        \n",
      " 1   userid               568167 non-null  object        \n",
      " 2   profilename          568167 non-null  object        \n",
      " 3   helpnessnumerator    568167 non-null  int64         \n",
      " 4   helpnessdenominator  568167 non-null  int64         \n",
      " 5   score                568167 non-null  int64         \n",
      " 6   time                 568167 non-null  datetime64[ns]\n",
      " 7   reviewsummary        568167 non-null  object        \n",
      " 8   reviewtext           568167 non-null  object        \n",
      " 9   helpfulness          568167 non-null  float64       \n",
      "dtypes: datetime64[ns](1), float64(1), int64(3), object(5)\n",
      "memory usage: 47.7+ MB\n"
     ]
    }
   ],
   "source": [
    "# Basic information after the cleaning\n",
    "df.info()"
   ]
  },
  {
   "cell_type": "markdown",
   "metadata": {
    "id": "pDNqRsPIFCZq"
   },
   "source": [
    "# Exploratory Data Analysis"
   ]
  },
  {
   "cell_type": "code",
   "execution_count": null,
   "metadata": {
    "colab": {
     "base_uri": "https://localhost:8080/",
     "height": 603
    },
    "executionInfo": {
     "elapsed": 112,
     "status": "ok",
     "timestamp": 1684329847708,
     "user": {
      "displayName": "k.vijay vijay",
      "userId": "06503366421292168170"
     },
     "user_tz": -330
    },
    "id": "Uqz8la9PQNiq",
    "outputId": "02a7806e-06b9-44c4-b217-793fb6faf865"
   },
   "outputs": [
    {
     "data": {
      "text/plain": [
       "<Axes: >"
      ]
     },
     "execution_count": 19,
     "metadata": {},
     "output_type": "execute_result"
    },
    {
     "data": {
      "image/png": "[encoded data removed]",
      "text/plain": [
       "<Figure size 1000x300 with 1 Axes>"
      ]
     },
     "metadata": {},
     "output_type": "display_data"
    }
   ],
   "source": [
    "df['profilename'].value_counts().iloc[:50].plot(kind='bar',figsize=(10,3))"
   ]
  },
  {
   "cell_type": "markdown",
   "metadata": {
    "id": "DZL3pBILFgwX"
   },
   "source": [
    "## Observation\n",
    "*Top 50 most regular customer names\n",
    "\n",
    "\n",
    "\n",
    "\n",
    "\n"
   ]
  },
  {
   "cell_type": "code",
   "execution_count": null,
   "metadata": {
    "colab": {
     "base_uri": "https://localhost:8080/",
     "height": 444
    },
    "executionInfo": {
     "elapsed": 103,
     "status": "ok",
     "timestamp": 1684329847708,
     "user": {
      "displayName": "k.vijay vijay",
      "userId": "06503366421292168170"
     },
     "user_tz": -330
    },
    "id": "50_hL1XYQbVf",
    "outputId": "75b675b3-7ea6-403e-9bbb-af08d921e052"
   },
   "outputs": [
    {
     "data": {
      "image/png": "[encoded data removed]",
      "text/plain": [
       "<Figure size 640x480 with 1 Axes>"
      ]
     },
     "metadata": {},
     "output_type": "display_data"
    }
   ],
   "source": [
    "\n",
    "df['score'].value_counts().plot(kind='bar')\n",
    "plt.xlabel(\"Score\")\n",
    "plt.show()"
   ]
  },
  {
   "cell_type": "markdown",
   "metadata": {
    "id": "mFtrgpxdFrQ4"
   },
   "source": [
    "## Observation\n",
    "* Maximum customers scored 5 out of 5.\n",
    "* The count of customers scored  1 out of 5 are more then the count of customers scored  2 out of 5  and 3 out of 5  "
   ]
  },
  {
   "cell_type": "code",
   "execution_count": null,
   "metadata": {
    "colab": {
     "base_uri": "https://localhost:8080/",
     "height": 534
    },
    "executionInfo": {
     "elapsed": 2352,
     "status": "ok",
     "timestamp": 1684329856182,
     "user": {
      "displayName": "k.vijay vijay",
      "userId": "06503366421292168170"
     },
     "user_tz": -330
    },
    "id": "TmOYSriIUyqH",
    "outputId": "a8672747-525e-47a8-d3ce-0b9b50458db3"
   },
   "outputs": [
    {
     "data": {
      "text/plain": [
       "<Axes: >"
      ]
     },
     "execution_count": 21,
     "metadata": {},
     "output_type": "execute_result"
    },
    {
     "data": {
      "image/png": "[encoded data removed]",
      "text/plain": [
       "<Figure size 640x480 with 1 Axes>"
      ]
     },
     "metadata": {},
     "output_type": "display_data"
    }
   ],
   "source": [
    "df['reviewsummary'].value_counts().iloc[:20].plot(kind='bar')"
   ]
  },
  {
   "cell_type": "markdown",
   "metadata": {
    "id": "GPSSbWraHO0H"
   },
   "source": [
    "## Observation\n",
    "* Top 20 review summary\n",
    "\n",
    "\n"
   ]
  },
  {
   "cell_type": "code",
   "execution_count": null,
   "metadata": {
    "colab": {
     "base_uri": "https://localhost:8080/",
     "height": 841
    },
    "executionInfo": {
     "elapsed": 93,
     "status": "ok",
     "timestamp": 1684329856182,
     "user": {
      "displayName": "k.vijay vijay",
      "userId": "06503366421292168170"
     },
     "user_tz": -330
    },
    "id": "In5DGqAPVFlG",
    "outputId": "389380e7-8bac-413b-be99-282859451290"
   },
   "outputs": [
    {
     "data": {
      "text/plain": [
       "<Axes: >"
      ]
     },
     "execution_count": 22,
     "metadata": {},
     "output_type": "execute_result"
    },
    {
     "data": {
      "image/png": "[encoded data removed]",
      "text/plain": [
       "<Figure size 640x480 with 1 Axes>"
      ]
     },
     "metadata": {},
     "output_type": "display_data"
    }
   ],
   "source": [
    "df['reviewsummary'].value_counts().iloc[-20:].plot(kind='bar')"
   ]
  },
  {
   "cell_type": "markdown",
   "metadata": {
    "id": "CNkSGYMFH6ff"
   },
   "source": [
    "## Observation\n",
    "* Bottom 20 review summary"
   ]
  },
  {
   "cell_type": "code",
   "execution_count": null,
   "metadata": {
    "id": "7Jiy_VT1Oouc"
   },
   "outputs": [],
   "source": [
    "df.set_index('time',drop=True,inplace=True)"
   ]
  },
  {
   "cell_type": "code",
   "execution_count": null,
   "metadata": {
    "colab": {
     "base_uri": "https://localhost:8080/",
     "height": 382
    },
    "executionInfo": {
     "elapsed": 733,
     "status": "ok",
     "timestamp": 1684329857813,
     "user": {
      "displayName": "k.vijay vijay",
      "userId": "06503366421292168170"
     },
     "user_tz": -330
    },
    "id": "xPjCb2nSTPc7",
    "outputId": "153b1d9f-26da-4211-83e1-e0831b91e28a"
   },
   "outputs": [
    {
     "data": {
      "image/png": "[encoded data removed]",
      "text/plain": [
       "<Figure size 640x480 with 1 Axes>"
      ]
     },
     "metadata": {},
     "output_type": "display_data"
    }
   ],
   "source": [
    "df['helpnessnumerator'].plot()\n",
    "plt.ylabel(\"helpnessnumerator\")\n",
    "plt.show()"
   ]
  },
  {
   "cell_type": "markdown",
   "metadata": {
    "id": "mkjpHgZ4KXZ6"
   },
   "source": [
    "# Observation \n",
    "* Number of users who found the review helpful increases as time incerases"
   ]
  },
  {
   "cell_type": "code",
   "execution_count": null,
   "metadata": {
    "id": "_qI9MfYPXUCV"
   },
   "outputs": [],
   "source": [
    "df.fillna(0,inplace=True)"
   ]
  },
  {
   "cell_type": "code",
   "execution_count": null,
   "metadata": {
    "colab": {
     "base_uri": "https://localhost:8080/",
     "height": 382
    },
    "executionInfo": {
     "elapsed": 1776,
     "status": "ok",
     "timestamp": 1684329860981,
     "user": {
      "displayName": "k.vijay vijay",
      "userId": "06503366421292168170"
     },
     "user_tz": -330
    },
    "id": "theCuGCHXiph",
    "outputId": "e71bb2c0-74a7-4a5c-deac-47ecf6764283"
   },
   "outputs": [
    {
     "data": {
      "image/png": "[encoded data removed]",
      "text/plain": [
       "<Figure size 640x480 with 1 Axes>"
      ]
     },
     "metadata": {},
     "output_type": "display_data"
    }
   ],
   "source": [
    "df['helpnessdenominator'].plot()\n",
    "plt.ylabel(\"helpnessnumerator\")\n",
    "plt.show()"
   ]
  },
  {
   "cell_type": "markdown",
   "metadata": {
    "id": "9W6DC0C8K7Uu"
   },
   "source": [
    "# Observation\n",
    "* Number of users who indicated whether they found the review helpful inceraces as time incerases"
   ]
  },
  {
   "cell_type": "code",
   "execution_count": null,
   "metadata": {
    "id": "7s1Y-HUPWUnw"
   },
   "outputs": [],
   "source": [
    "df.reset_index(inplace=True)"
   ]
  },
  {
   "cell_type": "code",
   "execution_count": null,
   "metadata": {
    "id": "Xy3-5FIdanjJ"
   },
   "outputs": [],
   "source": [
    "# Get the stop words\n",
    "sw=stopwords.words('english')"
   ]
  },
  {
   "cell_type": "code",
   "execution_count": null,
   "metadata": {
    "id": "cDC2p9qQaJud"
   },
   "outputs": [],
   "source": [
    "stemmer = PorterStemmer()\n",
    "lemma = WordNetLemmatizer()"
   ]
  },
  {
   "cell_type": "code",
   "execution_count": null,
   "metadata": {
    "id": "xPvBW3a7Y965"
   },
   "outputs": [],
   "source": [
    "# Creating a function for parts of speech taging \n",
    "def do_lemma(word_list):\n",
    "    pos = 'n'\n",
    "    output_list = []\n",
    "    for i,j in nltk.pos_tag(word_list):\n",
    "        if j.startswith(\"J\"):\n",
    "            pos = 'a'\n",
    "        elif j.startswith(\"N\"):\n",
    "            pos = 'n'\n",
    "        elif j.startswith(\"R\"):\n",
    "            pos = 'r' \n",
    "        elif j.startswith(\"V\"):\n",
    "            pos = 'v' \n",
    "        else:\n",
    "            pos = 'n'\n",
    "        output_list.append(lemma.lemmatize(i,pos=pos))\n",
    "    return output_list"
   ]
  },
  {
   "cell_type": "code",
   "execution_count": null,
   "metadata": {
    "id": "tfrYyDisZLOg"
   },
   "outputs": [],
   "source": [
    "# Creating a function for text cleaning\n",
    "\n",
    "def clean_text(x,stem=True):\n",
    "    x=re.sub(r'[^A-z0-9 ]','',x)\n",
    "    x_list = x.lower().split()\n",
    "    x_list = [word for word in x_list if word not in sw]\n",
    "    #x_list = [str(TextBlob(word).correct()) for word in x_list if word not in sw]\n",
    "    if stem:\n",
    "        x_list= [stemmer.stem(i) for i in x_list]\n",
    "    else : \n",
    "        x_list = do_lemma(x_list)\n",
    "    return \" \".join(x_list)"
   ]
  },
  {
   "cell_type": "code",
   "execution_count": null,
   "metadata": {
    "colab": {
     "base_uri": "https://localhost:8080/"
    },
    "executionInfo": {
     "elapsed": 471197,
     "status": "ok",
     "timestamp": 1684330584313,
     "user": {
      "displayName": "k.vijay vijay",
      "userId": "06503366421292168170"
     },
     "user_tz": -330
    },
    "id": "iO_VbmgUfDR0",
    "outputId": "94b716a8-6c7c-43ed-d143-98ca148d5644"
   },
   "outputs": [
    {
     "name": "stderr",
     "output_type": "stream",
     "text": [
      "100%|██████████| 568167/568167 [07:51<00:00, 1206.03it/s]\n"
     ]
    }
   ],
   "source": [
    "df['text_clean_lemma'] = df['reviewtext'].progress_apply(clean_text)"
   ]
  },
  {
   "cell_type": "code",
   "execution_count": 19,
   "metadata": {
    "executionInfo": {
     "elapsed": 8,
     "status": "ok",
     "timestamp": 1684341439909,
     "user": {
      "displayName": "k.vijay vijay",
      "userId": "06503366421292168170"
     },
     "user_tz": -330
    },
    "id": "QfdcR3zcaD_2"
   },
   "outputs": [],
   "source": [
    "bow=CountVectorizer()\n",
    "tfidf=TfidfVectorizer()"
   ]
  },
  {
   "cell_type": "code",
   "execution_count": 20,
   "metadata": {
    "executionInfo": {
     "elapsed": 4,
     "status": "ok",
     "timestamp": 1684341449329,
     "user": {
      "displayName": "k.vijay vijay",
      "userId": "06503366421292168170"
     },
     "user_tz": -330
    },
    "id": "it0UX2IIlQEU"
   },
   "outputs": [],
   "source": [
    "# Segregation of the text data\n",
    "x = df['text_clean_lemma']\n",
    "y = df['score']"
   ]
  },
  {
   "cell_type": "code",
   "execution_count": 27,
   "metadata": {
    "executionInfo": {
     "elapsed": 849,
     "status": "ok",
     "timestamp": 1684341857198,
     "user": {
      "displayName": "k.vijay vijay",
      "userId": "06503366421292168170"
     },
     "user_tz": -330
    },
    "id": "Owkdto2oep5n"
   },
   "outputs": [],
   "source": [
    "# Spliting the data into train and split\n",
    "X_train,X_test,y_train,y_test = train_test_split(x,y,test_size=0.25,random_state=28)\n"
   ]
  },
  {
   "cell_type": "code",
   "execution_count": 22,
   "metadata": {
    "executionInfo": {
     "elapsed": 28885,
     "status": "ok",
     "timestamp": 1684341478679,
     "user": {
      "displayName": "k.vijay vijay",
      "userId": "06503366421292168170"
     },
     "user_tz": -330
    },
    "id": "FSPnfoTYd4yd"
   },
   "outputs": [],
   "source": [
    "# tranforming the training data\n",
    "X_train_processed_bow = bow.fit_transform(X_train)\n",
    "X_train_processed_tfidf = tfidf.fit_transform(X_train)"
   ]
  },
  {
   "cell_type": "code",
   "execution_count": 23,
   "metadata": {
    "executionInfo": {
     "elapsed": 9433,
     "status": "ok",
     "timestamp": 1684341488078,
     "user": {
      "displayName": "k.vijay vijay",
      "userId": "06503366421292168170"
     },
     "user_tz": -330
    },
    "id": "Sa21-dgteRw7"
   },
   "outputs": [],
   "source": [
    "# tranforming the testing data\n",
    "X_test_processed_bow = bow.transform(X_test)\n",
    "X_test_processed_tfidf = tfidf.transform(X_test)"
   ]
  },
  {
   "cell_type": "code",
   "execution_count": 25,
   "metadata": {
    "executionInfo": {
     "elapsed": 6,
     "status": "ok",
     "timestamp": 1684341493382,
     "user": {
      "displayName": "k.vijay vijay",
      "userId": "06503366421292168170"
     },
     "user_tz": -330
    },
    "id": "whGEinC_fjP9"
   },
   "outputs": [],
   "source": [
    "# Creating objects for machine learning algorthms\n",
    "mnb=MultinomialNB()\n",
    "dt=DecisionTreeClassifier(random_state=28)\n",
    "rf=RandomForestClassifier(n_jobs=-1, random_state=28)\n",
    "lr=LogisticRegression()\n",
    "knn=KNeighborsClassifier()"
   ]
  },
  {
   "cell_type": "markdown",
   "metadata": {
    "id": "eUeauHhyPq12"
   },
   "source": [
    "## Multinomial Naive Bayes Algorthm"
   ]
  },
  {
   "cell_type": "code",
   "execution_count": null,
   "metadata": {
    "id": "W8YW_S7kfi-2"
   },
   "outputs": [],
   "source": [
    "# Building model\n",
    "mnb.fit(X_train_processed_bow,y_train)\n",
    "mnb_predict1 = mnb.predict(X_test_processed_bow)\n"
   ]
  },
  {
   "cell_type": "code",
   "execution_count": null,
   "metadata": {
    "colab": {
     "base_uri": "https://localhost:8080/"
    },
    "executionInfo": {
     "elapsed": 10,
     "status": "ok",
     "timestamp": 1684319487094,
     "user": {
      "displayName": "k.vijay vijay",
      "userId": "06503366421292168170"
     },
     "user_tz": -330
    },
    "id": "r5QPCAqi7Ohs",
    "outputId": "9849a591-71cf-403e-bdea-6a2fdb799dd4"
   },
   "outputs": [
    {
     "name": "stdout",
     "output_type": "stream",
     "text": [
      "Using Bag of words\n",
      "0.7126250756434974\n"
     ]
    }
   ],
   "source": [
    "# Model evaluation\n",
    "print('Using Bag of words')\n",
    "print(accuracy_score(y_test,mnb_predict1))"
   ]
  },
  {
   "cell_type": "code",
   "execution_count": null,
   "metadata": {
    "id": "Vk25efYBfiuK"
   },
   "outputs": [],
   "source": [
    "# Building model\n",
    "mnb.fit(X_train_processed_tfidf,y_train)\n",
    "mnb_predict = mnb.predict(X_test_processed_tfidf)\n"
   ]
  },
  {
   "cell_type": "code",
   "execution_count": null,
   "metadata": {
    "colab": {
     "base_uri": "https://localhost:8080/"
    },
    "executionInfo": {
     "elapsed": 25,
     "status": "ok",
     "timestamp": 1684319497658,
     "user": {
      "displayName": "k.vijay vijay",
      "userId": "06503366421292168170"
     },
     "user_tz": -330
    },
    "id": "VMtqtMHw9KLW",
    "outputId": "9a485f2c-25d6-4de3-b973-0ad874e181a2"
   },
   "outputs": [
    {
     "name": "stdout",
     "output_type": "stream",
     "text": [
      "Using TF-IDF\n",
      "0.6468750439787776\n"
     ]
    }
   ],
   "source": [
    "# Model evaluation\n",
    "print('Using TF-IDF')\n",
    "print(accuracy_score(y_test,mnb_predict))"
   ]
  },
  {
   "cell_type": "markdown",
   "metadata": {
    "id": "WjXufoR2P8LQ"
   },
   "source": [
    "## k Nearest Neighbors classifier algorithm"
   ]
  },
  {
   "cell_type": "code",
   "execution_count": null,
   "metadata": {
    "colab": {
     "base_uri": "https://localhost:8080/"
    },
    "executionInfo": {
     "elapsed": 3756474,
     "status": "ok",
     "timestamp": 1684155035598,
     "user": {
      "displayName": "k.vijay vijay",
      "userId": "06503366421292168170"
     },
     "user_tz": -330
    },
    "id": "k2xSDXAD5Saj",
    "outputId": "2f4cafed-ffda-4239-abc2-82c6fd8eec29",
    "scrolled": true
   },
   "outputs": [
    {
     "name": "stdout",
     "output_type": "stream",
     "text": [
      "Using Bag of words\n",
      "              precision    recall  f1-score   support\n",
      "\n",
      "           1       0.53      0.41      0.47     12996\n",
      "           2       0.41      0.32      0.36      7482\n",
      "           3       0.45      0.33      0.38     10551\n",
      "           4       0.39      0.39      0.39     20105\n",
      "           5       0.77      0.83      0.80     90980\n",
      "\n",
      "    accuracy                           0.67    142114\n",
      "   macro avg       0.51      0.46      0.48    142114\n",
      "weighted avg       0.65      0.67      0.66    142114\n",
      "\n"
     ]
    }
   ],
   "source": [
    "# Building model\n",
    "knn.fit(X_train_processed_bow,y_train)\n",
    "knn_predict = knn.predict(X_test_processed_bow)\n",
    "\n"
   ]
  },
  {
   "cell_type": "code",
   "execution_count": null,
   "metadata": {
    "colab": {
     "base_uri": "https://localhost:8080/"
    },
    "executionInfo": {
     "elapsed": 11,
     "status": "ok",
     "timestamp": 1684319737539,
     "user": {
      "displayName": "k.vijay vijay",
      "userId": "06503366421292168170"
     },
     "user_tz": -330
    },
    "id": "8FT6rGTRH5b_",
    "outputId": "ef887f6b-a643-4d26-f588-464ae6526899"
   },
   "outputs": [
    {
     "name": "stdout",
     "output_type": "stream",
     "text": [
      "Using Bag of words\n",
      "0.4707066158154721\n"
     ]
    }
   ],
   "source": [
    "# Model evaluation\n",
    "print('Using Bag of words')\n",
    "print(accuracy_score(y_test,knn_predict))"
   ]
  },
  {
   "cell_type": "code",
   "execution_count": null,
   "metadata": {
    "id": "r8F0g61V5dZ3"
   },
   "outputs": [],
   "source": [
    "# Building model\n",
    "knn.fit(X_train_processed_tfidf,y_train)\n",
    "knn_predict = knn.predict(X_test_processed_tfidf)\n"
   ]
  },
  {
   "cell_type": "code",
   "execution_count": 40,
   "metadata": {
    "colab": {
     "base_uri": "https://localhost:8080/"
    },
    "executionInfo": {
     "elapsed": 25,
     "status": "ok",
     "timestamp": 1684343081590,
     "user": {
      "displayName": "k.vijay vijay",
      "userId": "06503366421292168170"
     },
     "user_tz": -330
    },
    "id": "scQFh04EqyfN",
    "outputId": "9e45f283-0e1d-4561-bfe0-1e08ad5ae2c4"
   },
   "outputs": [
    {
     "name": "stdout",
     "output_type": "stream",
     "text": [
      "Using TF-IDF\n",
      "0.4707066158154721\n"
     ]
    }
   ],
   "source": [
    "# Model evaluation\n",
    "print('Using TF-IDF')\n",
    "print(accuracy_score(y_test,knn_predict))"
   ]
  },
  {
   "cell_type": "markdown",
   "metadata": {
    "id": "TSgtzjIaQIyY"
   },
   "source": [
    "## Random Forest classifier algorithm"
   ]
  },
  {
   "cell_type": "code",
   "execution_count": null,
   "metadata": {
    "id": "7CPJVm9Ofidd"
   },
   "outputs": [],
   "source": [
    "# Building model\n",
    "rf.fit(X_train_processed_bow,y_train)\n",
    "rf_predict1 = rf.predict(X_test_processed_bow)\n"
   ]
  },
  {
   "cell_type": "code",
   "execution_count": null,
   "metadata": {
    "colab": {
     "base_uri": "https://localhost:8080/"
    },
    "executionInfo": {
     "elapsed": 840,
     "status": "ok",
     "timestamp": 1684319691267,
     "user": {
      "displayName": "k.vijay vijay",
      "userId": "06503366421292168170"
     },
     "user_tz": -330
    },
    "id": "eYh5lRrcJunY",
    "outputId": "9c2e761b-e5e2-4e88-c0d4-ea58f3b2cef1"
   },
   "outputs": [
    {
     "name": "stdout",
     "output_type": "stream",
     "text": [
      "Using TF-IDF\n",
      "0.5546392332915828\n"
     ]
    }
   ],
   "source": [
    "# Model evaluation\n",
    "print('Using TF-IDF')\n",
    "print(accuracy_score(y_test,rf_predict1))"
   ]
  },
  {
   "cell_type": "code",
   "execution_count": null,
   "metadata": {
    "id": "cSHsf1LifiNE"
   },
   "outputs": [],
   "source": [
    "# Building model\n",
    "rf.fit(X_train_processed_tfidf,y_train)\n",
    "rf_predict = rf.predict(X_test_processed_tfidf)\n"
   ]
  },
  {
   "cell_type": "code",
   "execution_count": null,
   "metadata": {
    "colab": {
     "base_uri": "https://localhost:8080/"
    },
    "executionInfo": {
     "elapsed": 5,
     "status": "ok",
     "timestamp": 1684319704930,
     "user": {
      "displayName": "k.vijay vijay",
      "userId": "06503366421292168170"
     },
     "user_tz": -330
    },
    "id": "OtGaP-Bsn0U8",
    "outputId": "32492743-6478-4246-f12c-56e9d62e4eec"
   },
   "outputs": [
    {
     "name": "stdout",
     "output_type": "stream",
     "text": [
      "Using TF-IDF\n",
      "0.7884022686012637\n"
     ]
    }
   ],
   "source": [
    "# Model evaluation\n",
    "print('Using TF-IDF')\n",
    "print(accuracy_score(y_test,rf_predict))"
   ]
  },
  {
   "cell_type": "markdown",
   "metadata": {
    "id": "oyebigHpQW4s"
   },
   "source": [
    "## Decision tree classifier algorithm"
   ]
  },
  {
   "cell_type": "code",
   "execution_count": null,
   "metadata": {
    "id": "bTPaxQCE--_l"
   },
   "outputs": [],
   "source": [
    "# Building model\n",
    "dt.fit(X_train_processed_bow,y_train)\n",
    "dt_predict1 = dt.predict(X_test_processed_bow)\n"
   ]
  },
  {
   "cell_type": "code",
   "execution_count": null,
   "metadata": {
    "colab": {
     "base_uri": "https://localhost:8080/"
    },
    "executionInfo": {
     "elapsed": 8,
     "status": "ok",
     "timestamp": 1684319456680,
     "user": {
      "displayName": "k.vijay vijay",
      "userId": "06503366421292168170"
     },
     "user_tz": -330
    },
    "id": "_QJN54GtD32h",
    "outputId": "0204b765-3f72-4b41-8ea1-d702d3e821b3"
   },
   "outputs": [
    {
     "name": "stdout",
     "output_type": "stream",
     "text": [
      "Using bag of words\n",
      "0.7485821242101411\n"
     ]
    }
   ],
   "source": [
    "# Model evaluation\n",
    "print('Using bag of words')\n",
    "print(accuracy_score(y_test,dt_predict1))"
   ]
  },
  {
   "cell_type": "code",
   "execution_count": null,
   "metadata": {
    "id": "-EilO_hSfhpE"
   },
   "outputs": [],
   "source": [
    "# Building model\n",
    "dt.fit(X_train_processed_tfidf,y_train)\n",
    "dt_predict = dt.predict(X_test_processed_tfidf)\n"
   ]
  },
  {
   "cell_type": "code",
   "execution_count": null,
   "metadata": {
    "colab": {
     "base_uri": "https://localhost:8080/"
    },
    "executionInfo": {
     "elapsed": 10,
     "status": "ok",
     "timestamp": 1684254872545,
     "user": {
      "displayName": "k.vijay vijay",
      "userId": "06503366421292168170"
     },
     "user_tz": -330
    },
    "id": "f_70YfT3aDeW",
    "outputId": "03bd8933-3aa7-4135-de02-99bf87c88542"
   },
   "outputs": [
    {
     "name": "stdout",
     "output_type": "stream",
     "text": [
      "Using TF-IDF\n",
      "0.739990430217994\n"
     ]
    }
   ],
   "source": [
    "# Model evaluation\n",
    "print('Using TF-IDF')\n",
    "print(accuracy_score(y_test,dt_predict))"
   ]
  },
  {
   "cell_type": "markdown",
   "metadata": {
    "id": "bs00LxNSQi0u"
   },
   "source": [
    "## Logistic regression algorithm"
   ]
  },
  {
   "cell_type": "code",
   "execution_count": null,
   "metadata": {
    "colab": {
     "base_uri": "https://localhost:8080/"
    },
    "executionInfo": {
     "elapsed": 64229,
     "status": "ok",
     "timestamp": 1684231130012,
     "user": {
      "displayName": "k.vijay vijay",
      "userId": "06503366421292168170"
     },
     "user_tz": -330
    },
    "id": "0RdT6cN4fhYy",
    "outputId": "385f3871-f9f2-44e3-8c79-44b5e57a967e"
   },
   "outputs": [
    {
     "name": "stdout",
     "output_type": "stream",
     "text": [
      "Using Bag of words\n",
      "0.737225044682438\n"
     ]
    },
    {
     "name": "stderr",
     "output_type": "stream",
     "text": [
      "/usr/local/lib/python3.10/dist-packages/sklearn/linear_model/_logistic.py:458: ConvergenceWarning: lbfgs failed to converge (status=1):\n",
      "STOP: TOTAL NO. of ITERATIONS REACHED LIMIT.\n",
      "\n",
      "Increase the number of iterations (max_iter) or scale the data as shown in:\n",
      "    https://scikit-learn.org/stable/modules/preprocessing.html\n",
      "Please also refer to the documentation for alternative solver options:\n",
      "    https://scikit-learn.org/stable/modules/linear_model.html#logistic-regression\n",
      "  n_iter_i = _check_optimize_result(\n"
     ]
    }
   ],
   "source": [
    "# Building model\n",
    "lr.fit(X_train_processed_bow,y_train)\n",
    "lr_predict = lr.predict(X_test_processed_bow)\n"
   ]
  },
  {
   "cell_type": "code",
   "execution_count": 42,
   "metadata": {
    "colab": {
     "base_uri": "https://localhost:8080/"
    },
    "executionInfo": {
     "elapsed": 20,
     "status": "ok",
     "timestamp": 1684343243040,
     "user": {
      "displayName": "k.vijay vijay",
      "userId": "06503366421292168170"
     },
     "user_tz": -330
    },
    "id": "tBYs4VnL_-mB",
    "outputId": "839ad3d4-52c6-41e5-ac96-95cf997ac740"
   },
   "outputs": [
    {
     "name": "stdout",
     "output_type": "stream",
     "text": [
      "Using Bag of words\n",
      "0.737225044682438\n"
     ]
    }
   ],
   "source": [
    "# Model evaluation\n",
    "print('Using Bag of words')\n",
    "print(accuracy_score(y_test,lr_predict))"
   ]
  },
  {
   "cell_type": "code",
   "execution_count": null,
   "metadata": {
    "colab": {
     "base_uri": "https://localhost:8080/"
    },
    "executionInfo": {
     "elapsed": 64261,
     "status": "ok",
     "timestamp": 1684231709043,
     "user": {
      "displayName": "k.vijay vijay",
      "userId": "06503366421292168170"
     },
     "user_tz": -330
    },
    "id": "j15cx_NnfhHH",
    "outputId": "18e13218-b9c7-42d1-c3c5-d639fd846a8d"
   },
   "outputs": [
    {
     "name": "stderr",
     "output_type": "stream",
     "text": [
      "/usr/local/lib/python3.10/dist-packages/sklearn/linear_model/_logistic.py:458: ConvergenceWarning: lbfgs failed to converge (status=1):\n",
      "STOP: TOTAL NO. of ITERATIONS REACHED LIMIT.\n",
      "\n",
      "Increase the number of iterations (max_iter) or scale the data as shown in:\n",
      "    https://scikit-learn.org/stable/modules/preprocessing.html\n",
      "Please also refer to the documentation for alternative solver options:\n",
      "    https://scikit-learn.org/stable/modules/linear_model.html#logistic-regression\n",
      "  n_iter_i = _check_optimize_result(\n"
     ]
    }
   ],
   "source": [
    "# Building model\n",
    "lr.fit(X_train_processed_tfidf,y_train)\n",
    "lr_predict1 = lr.predict(X_test_processed_tfidf)\n"
   ]
  },
  {
   "cell_type": "code",
   "execution_count": null,
   "metadata": {
    "colab": {
     "base_uri": "https://localhost:8080/"
    },
    "executionInfo": {
     "elapsed": 718,
     "status": "ok",
     "timestamp": 1684231726604,
     "user": {
      "displayName": "k.vijay vijay",
      "userId": "06503366421292168170"
     },
     "user_tz": -330
    },
    "id": "XPFEbO-rfgRe",
    "outputId": "97925f4b-906d-41bf-e0f4-29e19104b35c"
   },
   "outputs": [
    {
     "name": "stdout",
     "output_type": "stream",
     "text": [
      "Using TF-IDF\n",
      "0.7314831754788409\n"
     ]
    }
   ],
   "source": [
    "# Model evaluation\n",
    "print('Using TF-IDF')\n",
    "print(accuracy_score(y_test,lr_predict1))"
   ]
  },
  {
   "cell_type": "markdown",
   "metadata": {},
   "source": [
    "## Visualization of model accuracy\n"
   ]
  },
  {
   "cell_type": "code",
   "execution_count": 2,
   "metadata": {
    "id": "DpqpB4fNlgcu",
    "scrolled": true
   },
   "outputs": [
    {
     "name": "stderr",
     "output_type": "stream",
     "text": [
      "C:\\Users\\Admin\\Downloads\\anaconda\\lib\\site-packages\\seaborn\\_decorators.py:36: FutureWarning: Pass the following variables as keyword args: x, y. From version 0.12, the only valid positional argument will be `data`, and passing other arguments without an explicit keyword will result in an error or misinterpretation.\n",
      "  warnings.warn(\n"
     ]
    },
    {
     "data": {
      "text/plain": [
       "<AxesSubplot:title={'center':'Accuracy score using bag of words'}>"
      ]
     },
     "execution_count": 2,
     "metadata": {},
     "output_type": "execute_result"
    },
    {
     "data": {
      "image/png": "[encoded data removed]",
      "text/plain": [
       "<Figure size 640x480 with 1 Axes>"
      ]
     },
     "metadata": {},
     "output_type": "display_data"
    }
   ],
   "source": [
    "x = [\"multinomial Naive Bayes\",'KNeighborsClassifier','DecisionTreeClassifier','RandomForestClassifier','LogisticRegression']\n",
    "y = [0.7126250756434974,0.4707066158154721,0.7485821242101411,0.5546392332915828,0.737225044682438]\n",
    "\n",
    "plt.title(\"Accuracy score using bag of words\")\n",
    "plt.xticks(rotation=90)\n",
    "sns.barplot(x,y)\n",
    "\n"
   ]
  },
  {
   "cell_type": "code",
   "execution_count": 4,
   "metadata": {},
   "outputs": [
    {
     "data": {
      "image/png": "[encoded data removed]",
      "text/plain": [
       "<Figure size 1500x600 with 1 Axes>"
      ]
     },
     "metadata": {},
     "output_type": "display_data"
    }
   ],
   "source": [
    "x = [\"multinomial Naive Bayes\",'KNeighborsClassifier','DecisionTreeClassifier','RandomForestClassifier','LogisticRegression']\n",
    "y = [0.7126250756434974,0.4707066158154721,0.7485821242101411,0.5546392332915828,0.737225044682438]\n",
    "colors = ['red', 'green', 'blue', 'orange', 'purple']\n",
    "plt.figure(figsize=(15, 6))\n",
    "plt.bar(x,y,color=colors[:len(x)])\n",
    "plt.xlabel('X')\n",
    "plt.ylabel('Y')\n",
    "plt.title('Accuracy score using Bag of words')\n",
    "plt.show()"
   ]
  },
  {
   "cell_type": "markdown",
   "metadata": {},
   "source": [
    "## Visualization of model accuracy"
   ]
  },
  {
   "cell_type": "code",
   "execution_count": 3,
   "metadata": {
    "scrolled": true
   },
   "outputs": [
    {
     "name": "stderr",
     "output_type": "stream",
     "text": [
      "C:\\Users\\Admin\\Downloads\\anaconda\\lib\\site-packages\\seaborn\\_decorators.py:36: FutureWarning: Pass the following variables as keyword args: x, y. From version 0.12, the only valid positional argument will be `data`, and passing other arguments without an explicit keyword will result in an error or misinterpretation.\n",
      "  warnings.warn(\n"
     ]
    },
    {
     "data": {
      "text/plain": [
       "<AxesSubplot:title={'center':'Accuracy score using TF-IDF'}>"
      ]
     },
     "execution_count": 3,
     "metadata": {},
     "output_type": "execute_result"
    },
    {
     "data": {
      "image/png": "[encoded data removed]",
      "text/plain": [
       "<Figure size 640x480 with 1 Axes>"
      ]
     },
     "metadata": {},
     "output_type": "display_data"
    }
   ],
   "source": [
    "x = [\"multinomial Naive Bayes\",'KNeighborsClassifier','DecisionTreeClassifier','RandomForestClassifier','LogisticRegression']\n",
    "y = [0.6468750439787776,0.4707066158154721,0.739990430217994,0.7884022686012637,0.7314831754788409]\n",
    "\n",
    "plt.title(\"Accuracy score using TF-IDF\")\n",
    "\n",
    "plt.xticks(rotation=90)\n",
    "sns.barplot(x,y)"
   ]
  },
  {
   "cell_type": "code",
   "execution_count": 5,
   "metadata": {},
   "outputs": [
    {
     "data": {
      "image/png": "[encoded data removed]",
      "text/plain": [
       "<Figure size 1500x600 with 1 Axes>"
      ]
     },
     "metadata": {},
     "output_type": "display_data"
    }
   ],
   "source": [
    "x = [\"multinomial Naive Bayes\",'KNeighborsClassifier','DecisionTreeClassifier','RandomForestClassifier','LogisticRegression']\n",
    "y = [0.6468750439787776,0.4707066158154721,0.739990430217994,0.7884022686012637,0.7314831754788409]\n",
    "colors = ['red', 'green', 'blue', 'orange', 'purple']\n",
    "plt.figure(figsize=(15, 6))\n",
    "plt.bar(x,y,color=colors[:len(x)])\n",
    "plt.xlabel('X')\n",
    "plt.ylabel('Y')\n",
    "plt.title('Accuracy score using TF-IDF')\n",
    "plt.show()"
   ]
  },
  {
   "cell_type": "markdown",
   "metadata": {},
   "source": [
    "# Observation\n",
    "* Models accuracy using bag of words\n",
    "    * Decision Tree classifier performed better than other models with 75% accuracy\n",
    "* Models accuracy using TF-IDF\n",
    "    * Random Forest classifier performed better than other models with 79% accuracy\n",
    "    \n",
    "    "
   ]
  },
  {
   "cell_type": "code",
   "execution_count": null,
   "metadata": {},
   "outputs": [],
   "source": []
  }
 ],
 "metadata": {
  "accelerator": "GPU",
  "colab": {
   "authorship_tag": "ABX9TyOEww0K9h9VoiiX0QsqT9D6",
   "collapsed_sections": [
    "bs00LxNSQi0u"
   ],
   "gpuType": "T4",
   "mount_file_id": "1Hje4oUUGAxkEvxPT0XEAldkZqXXWK3lW",
   "provenance": []
  },
  "gpuClass": "standard",
  "kernelspec": {
   "display_name": "Python 3 (ipykernel)",
   "language": "python",
   "name": "python3"
  },
  "language_info": {
   "codemirror_mode": {
    "name": "ipython",
    "version": 3
   },
   "file_extension": ".py",
   "mimetype": "text/x-python",
   "name": "python",
   "nbconvert_exporter": "python",
   "pygments_lexer": "ipython3",
   "version": "3.9.13"
  }
 },
 "nbformat": 4,
 "nbformat_minor": 1
}
